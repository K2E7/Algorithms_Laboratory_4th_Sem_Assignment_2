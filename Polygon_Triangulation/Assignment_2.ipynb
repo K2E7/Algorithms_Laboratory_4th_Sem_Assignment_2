{
 "cells": [
  {
   "cell_type": "markdown",
   "metadata": {},
   "source": [
    "# Polygon Triangulation Problem\n",
    "-----"
   ]
  },
  {
   "cell_type": "code",
   "execution_count": 26,
   "metadata": {},
   "outputs": [],
   "source": [
    "from shapely.geometry import Point, Polygon\n",
    "from matplotlib import pyplot as plt\n",
    "from typing import List\n",
    "from math import sqrt\n",
    "\n",
    "import random\n",
    "\n",
    "class polygon:\n",
    "    def __init__(self, n):\n",
    "        self.poly  = Polygon()\n",
    "        self.sides = n\n",
    "        self.range = 50\n",
    "\n",
    "        if(n*10 > self.range):\n",
    "            self.range = n*10\n",
    "    \n",
    "    def generate(self):\n",
    "        random.SystemRandom()\n",
    "        x = random.sample(range(-self.range, self.range), self.sides)\n",
    "        y = random.sample(range(-self.range, self.range), self.sides)\n",
    "        z = list(zip(x,y))\n",
    "        self.poly = Polygon(z)\n",
    "        self.poly = self.poly.convex_hull\n",
    "        n = len(self.poly.exterior.xy[0])-1\n",
    "        while n <self.sides:\n",
    "            random.SystemRandom()\n",
    "            x, y   = (random.randint(-self.range, self.range),\n",
    "                      random.randint(-self.range, self.range))\n",
    "\n",
    "            x1, y1 = self.poly.exterior.xy\n",
    "\n",
    "            x1.append(x)\n",
    "            y1.append(y)\n",
    "            z = list(zip(x1, y1))\n",
    "            self.poly = Polygon(z)\n",
    "            self.poly = self.poly.convex_hull\n",
    "            n = len(self.poly.exterior.xy[0])-1\n",
    "      \n",
    "    def plot(self):\n",
    "        x, y = self.poly.exterior.xy\n",
    "        plt.plot(x, y)\n",
    "        plt.show()\n",
    "\n",
    "    def getsides(self):\n",
    "        return self.sides"
   ]
  },
  {
   "cell_type": "code",
   "execution_count": 27,
   "metadata": {},
   "outputs": [],
   "source": [
    "def dist(p1, p2):\n",
    "    return sqrt((p1[0] - p2[0])*(p1[0] - p2[0]) + (p1[1] - p2[1])*(p1[1] - p2[1]))\n",
    "\n",
    "def cost(vertices, x, y, z):\n",
    "\n",
    "    distance = dist(vertices[x],vertices[y])+dist(vertices[y],vertices[z])+dist(vertices[z],vertices[x])\n",
    "    return distance"
   ]
  },
  {
   "cell_type": "markdown",
   "metadata": {},
   "source": [
    "### Brute Force Approach"
   ]
  },
  {
   "cell_type": "code",
   "execution_count": 28,
   "metadata": {},
   "outputs": [],
   "source": [
    "def poly_cost(P:Polygon, i, j, k):\n",
    "    p1 = Point(P.exterior.coords[i])\n",
    "    p2 = Point(P.exterior.coords[j])\n",
    "    p3 = Point(P.exterior.coords[k])\n",
    "\n",
    "    dist = p1.distance(p2) + p2.distance(p3) + p3.distance(p1)\n",
    "    return dist\n",
    "\n",
    "def brute_force_MWT(P:Polygon, i, j):  \n",
    "    \n",
    "    if(j < i+2):\n",
    "        return 0\n",
    "\n",
    "    res = 9999999999\n",
    "    for k in range (i+1, j):\n",
    "        minimum = brute_force_MWT(P, i, k) + brute_force_MWT(P, k, j) + poly_cost(P, i, k, j)\n",
    "        if minimum <= res:\n",
    "            res = minimum\n",
    "\n",
    "    return round(res,4)"
   ]
  },
  {
   "cell_type": "markdown",
   "metadata": {},
   "source": [
    "### Dynamic Programming Approach"
   ]
  },
  {
   "cell_type": "code",
   "execution_count": 29,
   "metadata": {},
   "outputs": [],
   "source": [
    "def dynam_progr_MWT(vertices):\n",
    "    n = len(vertices)\n",
    "\n",
    "    T = [[0.0]*n for _ in range(n)]\n",
    "    for diagonal in range(n):\n",
    "        i = 0\n",
    "        for j in range(diagonal, n):\n",
    "            if j >= i + 2:\n",
    "                T[i][j] = sys.maxsize\n",
    "                for k in range(i+1, j):\n",
    "                    weight  = dist(vertices[i], vertices[j]) +\\\n",
    "                              dist(vertices[j], vertices[k]) +\\\n",
    "                              dist(vertices[k], vertices[i])\n",
    "\n",
    "                    T[i][j] = min(T[i][j], weight+T[i][k]+T[k][j])\n",
    "            i+=1\n",
    "\n",
    "    return T[0][-1]"
   ]
  },
  {
   "cell_type": "markdown",
   "metadata": {},
   "source": [
    "### Greedy Programming Approach"
   ]
  },
  {
   "cell_type": "code",
   "execution_count": 30,
   "metadata": {},
   "outputs": [],
   "source": [
    "import math\n",
    "def position(arr):\n",
    "    convex = max(arr, key = lambda x: (x[1], x[0]))\n",
    "    for i in range(len(arr)):\n",
    "        if arr[i] == convex:\n",
    "            return i\n",
    "\n",
    "def inwards(x,y,z):\n",
    "    angle = math.degrees(math.atan2((z[1]-y[1]),(z[0]-y[0]))-math.atan2((z[1]-y[1]),(z[0]-y[0])))\n",
    "    if angle >= 180:\n",
    "        return False\n",
    "    else:\n",
    "        return True\n",
    "        \n",
    "def inList(x,y,z):\n",
    "    if   x in y:\n",
    "        return 1\n",
    "    elif x in z:\n",
    "        return 2\n",
    "\n",
    "def perimeter(x,y,z):\n",
    "    return (dist(x,y)+dist(y,z)+dist(z,x))"
   ]
  },
  {
   "cell_type": "code",
   "execution_count": 55,
   "metadata": {},
   "outputs": [
    {
     "ename": "SyntaxError",
     "evalue": "invalid syntax (1875329200.py, line 41)",
     "output_type": "error",
     "traceback": [
      "\u001b[1;36m  Input \u001b[1;32mIn [55]\u001b[1;36m\u001b[0m\n\u001b[1;33m    p2 = Point(q[1]).\u001b[0m\n\u001b[1;37m                     ^\u001b[0m\n\u001b[1;31mSyntaxError\u001b[0m\u001b[1;31m:\u001b[0m invalid syntax\n"
     ]
    }
   ],
   "source": [
    "def greed_progr_MWT(vertices):\n",
    "\n",
    "    n   = len(vertices)\n",
    "    div = position(vertices)+1\n",
    "\n",
    "    L   = vertices[:div]\n",
    "    R   = vertices[div:]\n",
    "    print(L)\n",
    "    print(R)\n",
    "    vertices_merged = L+R\n",
    "    vertices_merged = sorted(vertices_merged, key = lambda k: (k[1],k[0]), reverse=True)\n",
    "    print(vertices_merged)\n",
    "\n",
    "    L   = set(L)\n",
    "    R   = set(R)\n",
    "    results = []\n",
    "\n",
    "    q = []\n",
    "    q.append(vertices_merged[0])\n",
    "    q.append(vertices_merged[1])\n",
    "\n",
    "    last = 1\n",
    "    for i in range(2,n-1):\n",
    "        if inList(vertices_merged[i],L,R) == inList(vertices_merged[last],L,R):\n",
    "            q.append(vertices_merged[i])\n",
    "            last = i\n",
    "            \n",
    "            if(inwards(q[0],q[1],q[2])==True and len(q)>2):\n",
    "                p1 = Point(q[0])\n",
    "                p2 = Point(q[1])\n",
    "                p3 = Point(q[2])\n",
    "                temp_cost = p1.distance(p2)+p2.distance(p3)+p3.distance(p1)\n",
    "                results.append(temp_cost)\n",
    "                q.remove(q[1])\n",
    "        else:\n",
    "            temp = q[0]\n",
    "            q.remove(q[0])\n",
    "\n",
    "            while(len(q) >= 2):\n",
    "                p1 = Point(q[0])\n",
    "                p2 = Point(q[1])\n",
    "                p3 = Point(vertices_merged[i])\n",
    "                temp_cost = p1.distance(p2)+p2.distance(p3)+p3.distance(p1)\n",
    "                results.append(temp_cost)\n",
    "                q.remove(q[1])\n",
    "            p1 = Point(temp)\n",
    "            p2 = Point(q[0])\n",
    "            p3 = Point(vertices_merged[i])\n",
    "            temp_cost = p1.distance(p2)+p2.distance(p3)+p3.distance(p1)\n",
    "            results.append(temp_cost)\n",
    "            print(results)\n",
    "            q.append(vertices_merged[i])\n",
    "            last = i\n",
    "\n",
    "    temp_cost = perimeter(vertices_merged[n-1],vertices_merged[n-2],vertices_merged[n-3])\n",
    "    results.append(temp_cost)\n",
    "    \n",
    "    results = sorted(results, key=lambda x: x)\n",
    "    print(results)\n",
    "    return results[0]"
   ]
  },
  {
   "cell_type": "markdown",
   "metadata": {},
   "source": [
    "## .../testing"
   ]
  },
  {
   "cell_type": "code",
   "execution_count": 56,
   "metadata": {},
   "outputs": [
    {
     "name": "stdout",
     "output_type": "stream",
     "text": [
      "15.30056307974577\n",
      "[(0, 0), (2, 0), (2, 1), (1, 2)]\n",
      "[(0, 1)]\n",
      "[(1, 2), (2, 1), (0, 1), (2, 0), (0, 0)]\n",
      "(1, 2)\n",
      "[(2, 1)]\n",
      "POINT (2 1)\n",
      "POINT (2 1)\n",
      "1.4142135623730951\n",
      "2\n",
      "0.0\n",
      "[2.8284271247461903]\n",
      "[2.8284271247461903, 2.8284271247461903, 4.82842712474619]\n",
      "2.8284271247461903\n"
     ]
    },
    {
     "data": {
      "image/png": "[encoded data removed]",
      "text/plain": [
       "<Figure size 432x288 with 1 Axes>"
      ]
     },
     "metadata": {
      "needs_background": "light"
     },
     "output_type": "display_data"
    }
   ],
   "source": [
    "pol = polygon(5)\n",
    "pol.poly = Polygon([(0, 0), (2, 0), (2, 1), (1,2), (0, 1)])\n",
    "vx = [(0, 0), (2, 0), (2, 1), (1, 2), (0, 1)]\n",
    "#print(brute_force_MWT(pol,0,5))\n",
    "print(dynam_progr_MWT(vx))\n",
    "print(greed_progr_MWT(vx))\n",
    "pol.plot()"
   ]
  }
 ],
 "metadata": {
  "interpreter": {
   "hash": "1c773d3b8780c2b6aaa81144383c750f6704631d25d277f9115d0eb234fa95e6"
  },
  "kernelspec": {
   "display_name": "Python 3.10.4 64-bit (windows store)",
   "language": "python",
   "name": "python3"
  },
  "language_info": {
   "codemirror_mode": {
    "name": "ipython",
    "version": 3
   },
   "file_extension": ".py",
   "mimetype": "text/x-python",
   "name": "python",
   "nbconvert_exporter": "python",
   "pygments_lexer": "ipython3",
   "version": "3.10.4"
  },
  "orig_nbformat": 4
 },
 "nbformat": 4,
 "nbformat_minor": 2
}
