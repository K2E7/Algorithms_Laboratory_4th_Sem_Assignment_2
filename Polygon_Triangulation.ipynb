{
 "cells": [
  {
   "cell_type": "markdown",
   "metadata": {},
   "source": [
    "### Dataset Generation"
   ]
  },
  {
   "cell_type": "code",
   "execution_count": 2,
   "metadata": {},
   "outputs": [],
   "source": [
    "from shapely.geometry import Point, Polygon\n",
    "from matplotlib import pyplot as plt\n",
    "from typing import List\n",
    "\n",
    "import random\n",
    "\n",
    "class polygon:\n",
    "    def __init__(self, n):\n",
    "        self.poly  = Polygon()\n",
    "        self.sides = n\n",
    "        self.range = 50\n",
    "\n",
    "        if(n*10 > self.range):\n",
    "            self.range = n*10\n",
    "    \n",
    "    def generate(self):\n",
    "        random.SystemRandom()\n",
    "        x = random.sample(range(-self.range, self.range), self.sides)\n",
    "        y = random.sample(range(-self.range, self.range), self.sides)\n",
    "        z = list(zip(x,y))\n",
    "        self.poly = Polygon(z)\n",
    "        self.poly = self.poly.convex_hull\n",
    "        n = len(self.poly.exterior.xy[0])-1\n",
    "        while n <self.sides:\n",
    "            random.SystemRandom()\n",
    "            x, y   = (random.randint(-self.range, self.range),\n",
    "                      random.randint(-self.range, self.range))\n",
    "\n",
    "            x1, y1 = self.poly.exterior.xy\n",
    "\n",
    "            x1.append(x)\n",
    "            y1.append(y)\n",
    "            z = list(zip(x1, y1))\n",
    "            self.poly = Polygon(z)\n",
    "            self.poly = self.poly.convex_hull\n",
    "            n = len(self.poly.exterior.xy[0])-1\n",
    "        \n",
    "    def plot(self):\n",
    "        x, y = self.poly.exterior.xy\n",
    "        plt.plot(x, y)\n",
    "        plt.show()\n",
    "\n",
    "    def getsides(self):\n",
    "        return self.sides"
   ]
  },
  {
   "cell_type": "markdown",
   "metadata": {},
   "source": [
    "### Minimum Cost Triangulation - Brute Force Approach"
   ]
  },
  {
   "cell_type": "code",
   "execution_count": 7,
   "metadata": {},
   "outputs": [],
   "source": [
    "import math\n",
    "def cost(P:Polygon, i, j, k):\n",
    "    p1 = Point(P.poly.exterior.coords[i])\n",
    "    p2 = Point(P.poly.exterior.coords[j])\n",
    "    p3 = Point(P.poly.exterior.coords[k])\n",
    "\n",
    "    dist = p1.distance(p2) + p2.distance(p3) + p3.distance(p1)\n",
    "    return dist\n",
    "\n",
    "    \n",
    "def min_cost_brute(P:Polygon, i, j):  \n",
    "    \n",
    "    if(j < i+2):\n",
    "        return 0\n",
    "\n",
    "    res = 9999999999\n",
    "    for k in range (i+1, j):\n",
    "        minimum = min_cost_brute(P, i, k) + min_cost_brute(P, k, j) + cost(P, i, k, j)\n",
    "        if minimum <= res:\n",
    "            res = minimum\n",
    "\n",
    "    return round(res,4)\n"
   ]
  },
  {
   "cell_type": "code",
   "execution_count": 29,
   "metadata": {},
   "outputs": [],
   "source": [
    "### automated dataset\n",
    "cost_arr_brute = []\n",
    "for i in range(3,15):\n",
    "    p = polygon(i)\n",
    "    p.generate()\n",
    "    cost_arr_brute.append(min_cost_brute(p,0, i-1))"
   ]
  },
  {
   "cell_type": "code",
   "execution_count": 30,
   "metadata": {},
   "outputs": [
    {
     "name": "stdout",
     "output_type": "stream",
     "text": [
      "[146.3268, 390.4312, 541.1209, 929.6498, 1099.183, 1430.8171, 1909.0197, 2400.0254, 2521.4234, 3486.5557, 3849.6731, 4159.1162]\n"
     ]
    }
   ],
   "source": [
    "print(cost_arr_brute)"
   ]
  },
  {
   "cell_type": "markdown",
   "metadata": {},
   "source": [
    "### Minimum Cost Triangulation - Dynamic Programming"
   ]
  },
  {
   "cell_type": "code",
   "execution_count": 22,
   "metadata": {},
   "outputs": [],
   "source": [
    "import math\n",
    "import sys\n",
    "def dist(x, y):\n",
    "    return math.sqrt((x[0] - y[0]) * (x[0] - y[0]) + (x[1] - y[1]) * (x[1] - y[1]))\n",
    "\n",
    "def min_cost_dynamic(P:Polygon, i, j):\n",
    "    n = P.getsides()\n",
    "    vertices = list(P.poly.exterior.coords)\n",
    "    T = [[0.0] * n for _ in range(n)]\n",
    " \n",
    "    for diagonal in range(n):\n",
    "        i = 0\n",
    "        for j in range(diagonal, n):\n",
    "            if j >= i + 2:\n",
    "                T[i][j] = sys.maxsize\n",
    "                for k in range(i + 1, j):\n",
    "                    weight = dist(vertices[i], vertices[j]) + \\\n",
    "                            dist(vertices[j], vertices[k]) + \\\n",
    "                            dist(vertices[k], vertices[i])\n",
    "\n",
    "                    T[i][j] = min(T[i][j], weight + T[i][k] + T[k][j])\n",
    "            i += 1\n",
    " \n",
    "    return T[0][-1]\n"
   ]
  },
  {
   "cell_type": "code",
   "execution_count": 27,
   "metadata": {},
   "outputs": [],
   "source": [
    "cost_arr_dynamic = []\n",
    "for i in range(3,15):\n",
    "    p = polygon(i)\n",
    "    p.generate()\n",
    "    arr = list(p.poly.exterior.coords)\n",
    "    cost_arr_dynamic.append(min_cost_brute(p,0, i-1))"
   ]
  },
  {
   "cell_type": "code",
   "execution_count": 28,
   "metadata": {},
   "outputs": [
    {
     "name": "stdout",
     "output_type": "stream",
     "text": [
      "[141.6375, 225.4847, 497.5003, 824.5405, 1152.2218, 1299.552, 1869.3582, 2660.9246, 2544.7558, 3388.1992, 3936.7042, 4316.9714]\n"
     ]
    }
   ],
   "source": [
    "print(cost_arr_dynamic)"
   ]
  }
 ],
 "metadata": {
  "interpreter": {
   "hash": "1c773d3b8780c2b6aaa81144383c750f6704631d25d277f9115d0eb234fa95e6"
  },
  "kernelspec": {
   "display_name": "Python 3.10.4 64-bit (windows store)",
   "language": "python",
   "name": "python3"
  },
  "language_info": {
   "codemirror_mode": {
    "name": "ipython",
    "version": 3
   },
   "file_extension": ".py",
   "mimetype": "text/x-python",
   "name": "python",
   "nbconvert_exporter": "python",
   "pygments_lexer": "ipython3",
   "version": "3.10.4"
  },
  "orig_nbformat": 4
 },
 "nbformat": 4,
 "nbformat_minor": 2
}
